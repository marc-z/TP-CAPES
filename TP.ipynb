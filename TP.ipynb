{
 "cells": [
  {
   "cell_type": "markdown",
   "metadata": {},
   "source": [
    "\n",
    "# Algorithmique – Master MEEF, préparation CAPES Maths #\n",
    "# Exercices Python – 23 Novembre 2020 #\n"
   ]
  },
  {
   "cell_type": "markdown",
   "metadata": {},
   "source": [
    "## Introduction\n",
    "Ce document est un \"notebook\" [Jupyter](https://jupyter.org \"Jupyter\"). Il permet d'exécuter des bouts de code `Python` sans avoir besoin d'installer `Python` sur sa machine.\n",
    "\n",
    "Vous avez donc deux possibilités pour faire ce TP. Vous pouvez installer l'une des nombreuses applications permettant de saisir et d'exécuter des programmes `Python`, comme par exemple&nbsp;:\n",
    "- [Thonny](https://thonny.org \"Thonny\") ou\n",
    "- [Pyzo](https://pyzo.org \"Pyzo\"), qui est le logiciel disponible au CAPES de Mathématiques.\n",
    "\n",
    "Il est conseillé d'utiliser [Pyzo](https://pyzo.org \"Pyzo\"), pour se familiariser avec. Mais aujourd'hui, pour vous éviter d'installer quoi que ce soit sur votre machine, vous pouvez utiliser directement ce document dans votre navigateur web.\n",
    "\n",
    "Ce document est composé de <span style=\"color:#e71149\">**cellules**</span> qui peuvent contenir du <span style=\"color:#0a4c8e\">**texte**</span> comme celle que vous êtes en train de lire, ou du <span style=\"color:#0a4c8e\">**code Python**</span>. Les cellules pouvant contenir du code `python` se repèrent car elles sont marquées `In [ ]:` ou `Entrée [ ]:` à leur gauche.\n",
    "\n",
    "Cliquer sur une cellule permet de la sélectionner. On repère la cellule sélectionnée par une barre à gauche (par défaut, bleue pour les cellules de texte et verte pour les cellules de code `python`).\n",
    "\n",
    "Vous pouvez modifier toute cellule de code, en supprimant, changeant ou ajoutant du texte. Pour cela, il suffit de sélectionner la cellule. On peut ensuite l'exécuter directement dans ce document. On peut exécuter une cellule autant de fois que l'on souhaite.\n",
    "\n",
    "Par exemple, la cellule suivante contient du code permettant juste d'afficher un message.<br>**Pour l'exécuter**&nbsp;: placez le curseur dans la cellule, et tapez `Shift-Entrée` (`Shift` est la touche pour passer temporairement en majuscules, et `Entrée` la touche pour passer à la ligne suivante)."
   ]
  },
  {
   "cell_type": "code",
   "execution_count": null,
   "metadata": {},
   "outputs": [],
   "source": [
    "print(\"Bonjour !\\nÉvaluez moi en tapant Shift-Entrée\")"
   ]
  },
  {
   "cell_type": "markdown",
   "metadata": {},
   "source": [
    "\n",
    "**En résumé&nbsp;:** pour exécuter une cellule contenant du code `Python`, cliquez dans la cellule pour faire passer sa couleur en vert (elle devient alors éditable), modifiez-la, puis&nbsp;:\n",
    "- soit utilisez le bouton `Run` (ou `Exécuter`) de la barre d'outils en haut de cette page web,\n",
    "- soit tapez `Shift-Entrée` (`Shift` est la touche de passage temporaire en majuscules).\n",
    "\n",
    "Ce raccourci clavier exécute la cellule, et positionne le curseur dans la cellule suivante. Vous pouvez utiliser ce même raccourci sur une cellule de texte pour passer à la cellule suivante (également si vous avez double-cliqué dans une cellule texte par erreur, pour revenir à l'affichage normal).\n",
    "\n",
    "**<font color='#a30102'>Attention&nbsp;!</font>** Sauvegardez régulièrement votre travail (menu `File -> Download as -> Python` en anglais, ou `Fichier -> Télécharger au format -> Python` en français, qui enregistre tous les blocs `Python` que vous aurez saisis).\n"
   ]
  },
  {
   "cell_type": "markdown",
   "metadata": {},
   "source": [
    "## Algorithmes itératifs"
   ]
  },
  {
   "cell_type": "markdown",
   "metadata": {},
   "source": [
    "## Exercice 1\n",
    "1.  Écrire une fonction python non récursive `somme_puissances` qui\n",
    "    prend en argument un entier $n$ et un entier $p$, et qui renvoie la valeur $\\sum_{k=0}^nk^p$ si\n",
    "    $n\\geqslant 0$, et $0$ si $n<0$."
   ]
  },
  {
   "cell_type": "code",
   "execution_count": null,
   "metadata": {},
   "outputs": [],
   "source": [
    "def somme_puissances(n, p):\n",
    "    pass\n",
    "\n",
    "# Un test\n",
    "for p in range(5):\n",
    "    print(somme_puissances(5, p))"
   ]
  },
  {
   "cell_type": "markdown",
   "metadata": {},
   "source": [
    "2.  Écrire une version récursive de cette fonction."
   ]
  },
  {
   "cell_type": "code",
   "execution_count": null,
   "metadata": {},
   "outputs": [],
   "source": [
    "def somme_puissances_rec(n, p):\n",
    "    pass\n",
    "\n",
    "# Un test\n",
    "for p in range(5):\n",
    "    print(somme_puissances_rec(5, p))"
   ]
  },
  {
   "cell_type": "markdown",
   "metadata": {},
   "source": [
    "3.  En utilisant l'une des fonctions précédentes, écrire&nbsp;:\n",
    "    - une fonction `somme_entiers` qui prend en argument un entier $n$ et qui renvoie $\\sum_{k=0}^nk$ si $n\\geqslant 0$, et\n",
    "    $0$ si $n<0$.\n",
    "    - une fonction `somme_cubes` qui prend en argument un entier $n$ et qui renvoie $\\sum_{k=0}^nk^3$ si $n\\geqslant 0$, et\n",
    "    $0$ si $n<0$.\n",
    "    "
   ]
  },
  {
   "cell_type": "code",
   "execution_count": null,
   "metadata": {},
   "outputs": [],
   "source": [
    "def somme_entiers(n):\n",
    "    pass\n",
    "\n",
    "def somme_cubes(n):\n",
    "    pass\n",
    "\n",
    "# Tests\n",
    "print(somme_entiers(5))\n",
    "print(somme_cubes(5))"
   ]
  },
  {
   "cell_type": "markdown",
   "metadata": {},
   "source": [
    "4.  Écrire une fonction `verifier_identite` qui prend en\n",
    "    argument un entier $N$ et qui vérifie que pour tout entier $n$ entre\n",
    "    0 et $N$, on a $$\\sum_{k=0}^nk^3=\\Bigl( \\sum_{k=0}^nk \\Bigr)^2.$$\n",
    "\n"
   ]
  },
  {
   "cell_type": "code",
   "execution_count": null,
   "metadata": {},
   "outputs": [],
   "source": [
    "def verifier_identite(N):\n",
    "    pass\n",
    "\n",
    "# Tests\n",
    "print(verifier_identite(1000))"
   ]
  },
  {
   "cell_type": "markdown",
   "metadata": {},
   "source": [
    "## Exercice 2\n",
    "On représente un point $P$ dans le plan par un couple $(x,y)$, où $x$\n",
    "est l'abscisse de $P$ et où $y$ est son ordonnée. En Python, si `P` est\n",
    "le couple `(x,y)`, on accède à la valeur de `x` par `P[0]` et à\n",
    "celle de `y` par `P[1]`."
   ]
  },
  {
   "cell_type": "markdown",
   "metadata": {},
   "source": [
    "1.  Écrire une fonction `distance(P1, P2)` qui prend en\n",
    "    arguments deux points $P_1$ et $P_2$ et qui retourne la distance\n",
    "    entre ces points. Pour utiliser la fonction _racine carrée_,\n",
    "    insérer la ligne `from math import *` avant l'utilisation.\n",
    "    La fonction racine carrée est alors accessible par `sqrt`."
   ]
  },
  {
   "cell_type": "code",
   "execution_count": null,
   "metadata": {},
   "outputs": [],
   "source": [
    "from math import *\n",
    "\n",
    "def distance(P1, P2):\n",
    "    pass\n",
    "\n",
    "# Tests\n",
    "print(distance((1,1), (1,1)))  # résultat attendu : 0.0\n",
    "print(distance((0,1), (1,1)))  # résultat attendu : 1.0\n",
    "print(distance((0,0), (1,1)))  # résultat attendu : 1.4142135623730951"
   ]
  },
  {
   "cell_type": "markdown",
   "metadata": {},
   "source": [
    "## Listes\n",
    "On veut maintenant manipuler une <span style=\"color:#e71149\">**liste**</span> de points. Pour cela, il faut comprendre que Python peut manipuler des variables représentant non pas une seule valeur, mais un nombre fini arbitraire de valeurs (qui peuvent être de même type, ou pas). Comme c'est une notion utile, voici les éléments principaux à connaître sur les listes, avant de passer à la question suivante.\n",
    "L'intérêt de manipuler des listes est de pouvoir, \n",
    "\n",
    "- passer une liste de taille quelconque en argument à une fonction (et donc, simuler une fonction qui prend un nombre arbitraire d'arguments),\n",
    "\n",
    "- retourner des listes de taille quelconque (et donc, simuler une fonction qui retourne un nombre arbitraire d'arguments),\n",
    "\n",
    "- modifier les listes.\n",
    "\n",
    "**Création de listes.** On peut donner explicitement une  liste en insérant ses éléments entre crochets, séparés par des virgules. Il y a d'autres façons de créer des listes. Par exemple, on peut former les listes suivantes&nbsp;:"
   ]
  },
  {
   "cell_type": "code",
   "execution_count": null,
   "metadata": {},
   "outputs": [],
   "source": [
    "L1 = [2, 3, 5, 7, 11, 13]  # Liste des premiers nombres premiers, donnés explicitement.\n",
    "print(L1)\n",
    "\n",
    "L2 = list(range(20))       # Liste L[i] = i pour i de 0 à 19, en utilisant la construction range.\n",
    "print(L2)\n",
    "\n",
    "L3 = [x*x*x for x in L1]   # Liste des cubes des éléments de L1.\n",
    "print(L3)\n",
    "\n",
    "L4 = [(0,0), (0,1), (1,0)] # Liste de 3 couples d'entiers, donnés explicitement.\n",
    "print(L4)\n",
    "\n",
    "L5 = [1, 1.0, \"Un\", True]  # Liste d'éléments de types divers, donnés explicitement.\n",
    "print(L5)"
   ]
  },
  {
   "cell_type": "markdown",
   "metadata": {},
   "source": [
    "**Fonction longueur.** La fonction `len` renvoie la longueur d'une liste&nbsp;:"
   ]
  },
  {
   "cell_type": "code",
   "execution_count": null,
   "metadata": {},
   "outputs": [],
   "source": [
    "for l in [L1, L2, L3, L4, L5]:\n",
    "    print(len(l))"
   ]
  },
  {
   "cell_type": "markdown",
   "metadata": {},
   "source": [
    "**Parcours d'une liste par l'instruction `for`.** Observez dans l'exemple précédent que la notation \n",
    "```Python\n",
    "for <nom_de_variable> in <liste>:\n",
    "   instructions\n",
    "```\n",
    "permet d'exécuter les `instructions` en faisant prendre à la `variable`, successivement, chaque valeur des éléments de la `liste`."
   ]
  },
  {
   "cell_type": "markdown",
   "metadata": {},
   "source": [
    "**Accès à un élément particulier.** On peut accéder à l'élément d'indice `i` dans une liste `L` par `L[i]`. La numérotation, comme c'est l'usage en mathématiques pour les suites, commence à 0. Bien sûr, l'indice `i` doit être légal, donc pas supérieur ou égal à la longueur de la listes."
   ]
  },
  {
   "cell_type": "code",
   "execution_count": null,
   "metadata": {},
   "outputs": [],
   "source": [
    "print(L5[2])\n",
    "for p in L1:\n",
    "    print(p, \"est un nombre premier\")\n",
    "\n",
    "L5[2] = \"One\"\n",
    "print(\"Nouvelle valeur de L5 :\", L5)"
   ]
  },
  {
   "cell_type": "markdown",
   "metadata": {},
   "source": [
    "Notez que l'on peut utiliser des indices négatifs&nbsp;: l'indice $-1$ désigne le dernier élément, l'indice $-2$ l'avant-dernier, etc."
   ]
  },
  {
   "cell_type": "code",
   "execution_count": null,
   "metadata": {},
   "outputs": [],
   "source": [
    "print(L5[-1])"
   ]
  },
  {
   "cell_type": "markdown",
   "metadata": {},
   "source": [
    "**Tranches d'éléments successifs.** On peut extraire d'une liste une sous-liste composée d'éléments situés à des indices consécutifs&nbsp;:"
   ]
  },
  {
   "cell_type": "code",
   "execution_count": null,
   "metadata": {},
   "outputs": [],
   "source": [
    "print(L1[1:4])  # éléments de L1 entre l'indice 1 et l'indice 3.\n",
    "print(L1[2:])   # éléments de L1 de l'indice 2 jusqu'à la fin.\n",
    "print(L1[:-3])  # éléments de L1 sauf les 3 derniers (c'est-à-dire jusqu'à l'indice -3 exclu)."
   ]
  },
  {
   "cell_type": "markdown",
   "metadata": {},
   "source": [
    "**Concaténation de listes.** On peut enfin concaténer des listes par l'opérateur `+`."
   ]
  },
  {
   "cell_type": "code",
   "execution_count": null,
   "metadata": {},
   "outputs": [],
   "source": [
    "L1 = L1 + [17, 19]\n",
    "print(\"Nouvelle valeur de L1 :\", L1)"
   ]
  },
  {
   "cell_type": "markdown",
   "metadata": {},
   "source": [
    "2.  Écrire une fonction `distance_minimale(L)` prenant en\n",
    "    argument une liste `L` de points du plan et qui retourne\n",
    "    `None` si cette liste a moins de deux éléments, et deux\n",
    "    points $P$ et $Q$ de la liste situés à des positions distinctes dans\n",
    "    `L` et dont la distance est minimale parmi toutes les\n",
    "    distances entre points situés à des positions distinctes de\n",
    "    `L`.\n",
    "    \n",
    "    **Rappels.** On accède à la longueur d'une liste `L` par\n",
    "    `len(L)`. Connaissant une position `i` dans la liste, entre\n",
    "    0 et `len(L)-1`, on accède à l'élément à cette position par\n",
    "    `L[i]`. Enfin, on peut parcourir toutes les positions grâce à une\n",
    "    boucle `for i in range(len(L))`."
   ]
  },
  {
   "cell_type": "code",
   "execution_count": null,
   "metadata": {},
   "outputs": [],
   "source": [
    "def distance_minimale(L):\n",
    "    pass\n",
    "\n",
    "# Tests\n",
    "L = [(x, x**2) for x in range(1, 10)]\n",
    "print(L)\n",
    "print(distance_minimale(L))\n",
    "\n",
    "L = L + [(6, 26)]\n",
    "print(L)\n",
    "print(distance_minimale(L))"
   ]
  },
  {
   "cell_type": "markdown",
   "metadata": {},
   "source": [
    "3.  Évaluer la complexité de votre fonction en fonction de la longueur\n",
    "    de la liste.\n"
   ]
  },
  {
   "cell_type": "markdown",
   "metadata": {},
   "source": [
    "# Algorithmes récursifs\n",
    "# Exercice 3\n",
    "La suite $(u_n)_{n\\geqslant0}$ est définie par les égalités suivantes:\n",
    "$$u_0=1,\\quad u_1=42\\quad \\text{et pour $n\\geqslant0$, }u_{n+2}=u_{n+1}-2u_n.$$\n",
    "1.  Écrivez une fonction récursive traduisant naïvement cette définition\n",
    "    mathématique."
   ]
  },
  {
   "cell_type": "code",
   "execution_count": null,
   "metadata": {},
   "outputs": [],
   "source": [
    "def u(n):\n",
    "    pass"
   ]
  },
  {
   "cell_type": "markdown",
   "metadata": {},
   "source": [
    "2.  Évaluer le nombre d'appels récursifs de votre fonction.\n",
    "3.  En utilisant le fait que&nbsp;:\n",
    "    $${u_{n+2}\\choose u_{n+1}}=M\\cdot{u_{n+1}\\choose u_{n}}$$ pour une\n",
    "    matrice $M$ bien choisie, écrivez une fonction calculant $u_n$\n",
    "    réalisant:"
   ]
  },
  {
   "cell_type": "markdown",
   "metadata": {},
   "source": [
    "&nbsp;&nbsp;&nbsp;&nbsp;&nbsp;&nbsp;&nbsp;a. dans un premier temps, $O(n)$ opérations arithmétiques dans le cas le pire.\n",
    "    "
   ]
  },
  {
   "cell_type": "code",
   "execution_count": null,
   "metadata": {},
   "outputs": [],
   "source": [
    "def u1(n):\n",
    "    pass"
   ]
  },
  {
   "cell_type": "markdown",
   "metadata": {},
   "source": [
    "\n",
    "&nbsp;&nbsp;&nbsp;&nbsp;&nbsp;&nbsp;&nbsp;b. dans un second temps, $(\\log_2(n))$ opérations arithmétiques dans le cas le pire. **Indication** utilisez l'exponentiation rapide.<br/><br/>"
   ]
  },
  {
   "cell_type": "code",
   "execution_count": null,
   "metadata": {},
   "outputs": [],
   "source": [
    "def u2(n):\n",
    "    pass"
   ]
  },
  {
   "cell_type": "markdown",
   "metadata": {},
   "source": [
    "4.  Testez vos deux fonctions pour $n$ valant 1, 10, 30, 40,\n",
    "    100, 100000000.\n"
   ]
  },
  {
   "cell_type": "code",
   "execution_count": null,
   "metadata": {},
   "outputs": [],
   "source": []
  },
  {
   "cell_type": "markdown",
   "metadata": {},
   "source": [
    "## Module turtle\n",
    "Dans les exercices 4, 5 et 6, on utilise le module `turtle` de python. Ce\n",
    "module permet de dessiner des segments de droites, en déplaçant un stylo\n",
    "(appelé \"tortue\") sur une fenêtre. Pour pouvoir utiliser ce module <span style=\"color:#e71149\">**sous Pyzo**</span>,\n",
    "vous devez écrire:\n",
    "```Python\n",
    "  from turtle import *\n",
    "```\n",
    "ou, ce qui est plus propre mais demande d'ajouter \"`turtle.`\" devant chaque nom de fonction:\n",
    "\n",
    "```Python\n",
    "  import turtle\n",
    "```\n",
    "\n",
    "Si par contre, vous utilisez <span style=\"color:#e71149\">**ce notebook**</span>, vous **devez** évaluer la cellule suivante.\n"
   ]
  },
  {
   "cell_type": "code",
   "execution_count": null,
   "metadata": {},
   "outputs": [],
   "source": [
    "from jturtle import *"
   ]
  },
  {
   "cell_type": "markdown",
   "metadata": {},
   "source": [
    "L'exécution de la cellule précédente ne produit pas de résultat visible (à part que le compteur d'exécution des cellules, qui se trouve entre les crochets à gauche de la cellule, après le mot `Entrée` ou `In`, doit contenir maintenant le nombre de cellules évaluées, par exemple `[42]`). Mais une fois la cellule évaluée, vous avez accès aux instructions suivantes.<br>**<font color='#0102a3'>Rappel&nbsp;:</font>** tout ce qui se trouve **après un signe `#`** jusqu'à la fin de la ligne est **ignoré** par `Python` (sauf bien sûr si le signe `#` fait partie d'une chaîne de caractères). Cela permet d'insérer des commentaires en français dans les programmes.\n",
    "\n",
    "| Instruction | Signification | Exemples d'utilisation |\n",
    "|:-|:-|:-|\n",
    "| `Screen` | Ouvre un tableau graphique dont les dimensions<br>(largeur et hauteur) peuvent être données en argument.<br> Un seul tableau est visible à un instant&nbsp;: celui qui<br>correspond à la dernière instruction `Screen` exécutée.<br> Le tableau apparaît dans le navigateur à droite de ce texte.<br> _Seulement sur cette page web_&nbsp;: ajustez la largeur et la<br> hauteur si celle par défaut ne convient pas à la taille de votre écran. | `Screen()`<br>`Screen(300, 750)` `# jturtle seulement` |\n",
    "| `forward` | Avance de la distance donnée en argument,<br>dans la direction où la tortue regarde actuellement.<br>Si la distance est négative, la tortue recule. | `forward(100)  # avance de 100 pixels`<br>`avancer(-50)  # recule de 50 pixels` |\n",
    "| `left` | Tourne de l'angle donné en argument.<br>L'angle peut être positif ou négatif.  | `left(45)  # 45 degrés vers la gauche`<br>`left(-90) # 90 degrés vers la droite` |\n",
    "| `setheading` | Positionne l'angle de la tortue (angle nul = vers l'Est).  | `setheading(125)` |\n",
    "| `reset` | Efface le tableau graphique et repositionne la tortue<br>au centre. | `reset()` |\n",
    "| `up` | Lève le crayon : les déplacements de la tortue<br>ne produisent plus de marque jusqu'à ce que le<br>crayon soit reposé. | `up()` |\n",
    "| `down` | Pose le crayon : les déplacements de la tortue<br>produisent une marque (sauf l'instruction `aller`),<br> jusqu'à ce que le crayon soit levé. | `down()` |\n",
    "| `pencolor` | Change la couleur du crayon. On doit donner 3 <br>arguments, entre 0 et 255 :<br>- la composante de rouge,<br>- la composante de vert,<br>- la composante de bleu.<br><br>La couleur obtenue est un mélange des trois couleurs.<br>0 signifie l'absence de couleur et 255 la présence<br>maximale.<br>**Sous Pyzo, préalablement&nbsp;:** `colormode(255)`| `# Passe en rouge`<br>`pencolor(255, 0, 0)` <br>`# Passe en vert`<br>`pencolor(0, 255, 0)`<br>`# Passe en bleu`<br>`pencolor(0, 0, 255)`<br>`# Passe en jaune`<br>`pencolor(252, 258, 41)`<br>`# Passe en noir`<br>`pencolor(0, 0, 0)` |\n",
    "| `speed` | (Pyzo seulement)&nbsp;: règle la vitesse | `speed('fastest')`<br>`speed(1)` |"
   ]
  },
  {
   "cell_type": "markdown",
   "metadata": {},
   "source": [
    "## Exercice préliminaire\n",
    "Familiarisez-vous avec ces instructions. Pour cela, exécutez, modifiez et ré-exécutez autant de fois que nécessaire les cellules suivantes.\n",
    "\n"
   ]
  },
  {
   "cell_type": "code",
   "execution_count": null,
   "metadata": {},
   "outputs": [],
   "source": [
    "# Ajustez les dimensions pour avoir un tableau de taille convenable.\n",
    "# Une fois créé, vous pourrez déplacer le tableau à la souris, à l'intérieur\n",
    "# de la fenêtre de votre navigateur.\n",
    "Screen(450,750)"
   ]
  },
  {
   "cell_type": "code",
   "execution_count": null,
   "metadata": {},
   "outputs": [],
   "source": [
    "# Modifiez éventuellement la distance\n",
    "forward(150)"
   ]
  },
  {
   "cell_type": "code",
   "execution_count": null,
   "metadata": {},
   "outputs": [],
   "source": [
    "left(-60) # angle en degré, vers la droite si négatif"
   ]
  },
  {
   "cell_type": "code",
   "execution_count": null,
   "metadata": {},
   "outputs": [],
   "source": [
    "forward(50)"
   ]
  },
  {
   "cell_type": "code",
   "execution_count": null,
   "metadata": {},
   "outputs": [],
   "source": [
    "reset()"
   ]
  },
  {
   "cell_type": "code",
   "execution_count": null,
   "metadata": {},
   "outputs": [],
   "source": [
    "setheading(180)"
   ]
  },
  {
   "cell_type": "code",
   "execution_count": null,
   "metadata": {},
   "outputs": [],
   "source": [
    "up()"
   ]
  },
  {
   "cell_type": "code",
   "execution_count": null,
   "metadata": {},
   "outputs": [],
   "source": [
    "forward(100)"
   ]
  },
  {
   "cell_type": "code",
   "execution_count": null,
   "metadata": {},
   "outputs": [],
   "source": [
    "down()"
   ]
  },
  {
   "cell_type": "code",
   "execution_count": null,
   "metadata": {},
   "outputs": [],
   "source": [
    "forward(100)"
   ]
  },
  {
   "cell_type": "code",
   "execution_count": null,
   "metadata": {},
   "outputs": [],
   "source": [
    "left(120)"
   ]
  },
  {
   "cell_type": "code",
   "execution_count": null,
   "metadata": {},
   "outputs": [],
   "source": [
    "pencolor(250,50,200)"
   ]
  },
  {
   "cell_type": "code",
   "execution_count": null,
   "metadata": {},
   "outputs": [],
   "source": [
    "forward(100)"
   ]
  },
  {
   "cell_type": "markdown",
   "metadata": {},
   "source": [
    "## Exercice 4\n",
    "On veut dessiner des arbres obtenus récursivement, de la façon suivante:\n",
    "![image](Arbres.png)\n",
    "L'arbre de rang 0 (à gauche) est réduit à un segment vertical. Pour\n",
    "$n\\geqslant1$, l'arbre de rang $n$ est composé d'un segment vertical et\n",
    "de deux arbres de rang $n-1$ commençant chacun en haut du tronc, et\n",
    "inclinés d'un angle donné (par exemple $30^{\\circ}$) symétriquement par\n",
    "rapport au tronc.\n",
    "\n",
    "1.  Écrivez une fonction\n",
    "\n",
    "    ``` \n",
    "          def arbre(n, longueur, angle, ratio):\n",
    "    ```\n",
    "\n",
    "    qui dessine l'arbre de rang $n$. La longueur (de la base du tronc\n",
    "    aux extrémités des branches) est donnée par le second argument. Le\n",
    "    troisième argument est l'angle des sous-arbres par rapport au tronc.\n",
    "    Le dernier argument est le ratio entre la longueur du tronc et la\n",
    "    longueur totale."
   ]
  },
  {
   "cell_type": "code",
   "execution_count": null,
   "metadata": {},
   "outputs": [],
   "source": []
  },
  {
   "cell_type": "markdown",
   "metadata": {},
   "source": [
    "2.  Combien d'appels récursifs sont-ils effectués par cette fonction?"
   ]
  },
  {
   "cell_type": "markdown",
   "metadata": {},
   "source": [
    "## Exercice 5\n",
    "Les flocons de Koch sont obtenus en répétant récursivement un motif. Les premiers flocons sont les suivants: \n",
    "\n",
    "![image](Koch.png)\n",
    "\n",
    "Le flocon de rang 0 (figure de gauche) est simplement un segment. Pour\n",
    "$n\\geqslant1$, le flocon de rang $n$ est obtenu en juxtaposant 4 flocons\n",
    "de rang $n-1$: le premier horizontal, le second incliné de $60^\\circ$,\n",
    "le troisième incliné de $-60^\\circ$ et le quatrième également\n",
    "horizontal.\n",
    "\n",
    "1.  Écrivez une fonction `koch(n, longueur)` qui dessine le\n",
    "    flocon de rang $n$, dont la longueur de l'extrémité gauche à\n",
    "    l'extrémité droite est donnée par le second paramètre."
   ]
  },
  {
   "cell_type": "code",
   "execution_count": null,
   "metadata": {},
   "outputs": [],
   "source": []
  },
  {
   "cell_type": "markdown",
   "metadata": {},
   "source": [
    "2.  Combien d'appels récursifs sont-ils effectués par cette fonction?"
   ]
  },
  {
   "cell_type": "markdown",
   "metadata": {},
   "source": [
    "## Exercice 6\n",
    "\n",
    "Même exercice pour le triangle de Sierpinski dont les premiers rangs sont représentés\n",
    "sur la figure suivante. \n",
    "\n",
    "![image](Siepinski.png)"
   ]
  },
  {
   "cell_type": "code",
   "execution_count": null,
   "metadata": {},
   "outputs": [],
   "source": []
  },
  {
   "cell_type": "markdown",
   "metadata": {},
   "source": [
    "Testez la fonction pour l'itération 8.\n",
    "## Exercice 7\n",
    "Le jeu des tours de Hanoi se joue avec 3 piquets, appelés $d$ (comme\n",
    "départ), $a$ (comme arrivée), et $i$ (comme intermédiaire), et $n$\n",
    "disques de tailles différentes que l'on met sur ces piquets.\n",
    "\n",
    "On part de la configuration où les $n$ disques sont disposés sur le\n",
    "piquet $d$ de départ, comme sur la photo suivante (avec $n=8$).\n",
    "\n",
    "![image](Hanoi.jpg)\n",
    "\n",
    "L'objectif est de déplacer les disques du piquet $d$ vers le piquet $a$,\n",
    "en déplaçant un seul disque à chaque étape. La contrainte à respecter\n",
    "est qu'on n'a pas le droit de placer un disque sur un disque plus petit\n",
    "que lui.\n",
    "\n",
    "1.  En supposant que vous savez déplacer les $(n-1)$ disques les plus\n",
    "    petits d'un piquet vers un autre en utilisant une suite de\n",
    "    mouvements, comment faire pour déplacer les $n$ disques du piquet\n",
    "    $d$ vers le piquet $a$?\n",
    "\n",
    "2.  Décrire un algorithme récursif permettant de résoudre le jeu, en\n",
    "    affichant la suite des déplacements de disques. \n",
    "\n",
    "3.  Écrire cet algorithme en `Python`, en faisant une fonction récursive `hanoi` qui prend en paramètre le nombre $n$ de disques et affiche la suite des déplacements de disques à effectuer. Un déplacement du disque 1 vers le disque 3 peut par exemple être affiché, par l'instruction `print`, comme suit&nbsp;: \n",
    "```Python\n",
    "print(\"1 -> 3\")\n",
    "```\n"
   ]
  },
  {
   "cell_type": "code",
   "execution_count": null,
   "metadata": {},
   "outputs": [],
   "source": []
  },
  {
   "cell_type": "markdown",
   "metadata": {},
   "source": [
    "4.  Combien cet algorithme fait-il de déplacements de disques&nbsp;:? Justifiez votre réponse."
   ]
  },
  {
   "cell_type": "markdown",
   "metadata": {},
   "source": [
    "## Exercice bonus : sommes de trois cubes\n",
    "On considère un entier $k$ entre 0 et 99, et l'équation&nbsp;:\n",
    "$$x^3+y^3+z^3=k.$$\n",
    "On veut savoir pour quelles valeurs de $k$ cette équation à une solution pour $x,y,z$ entiers (positifs ou négatifs).\n",
    "1. Écrire une fonction `generate` qui prend en paramètre un entier $n$, et génère la **liste de tous les entiers $k$** pour lesquels l'équation ci-dessus à une solution avec $x,y,z\\in\\mathbb{Z}$ et $|x|\\leqslant n$, $|y|\\leqslant n$ et $z\\leqslant n$."
   ]
  },
  {
   "cell_type": "code",
   "execution_count": null,
   "metadata": {},
   "outputs": [],
   "source": [
    "def generate(n):\n",
    "    pass"
   ]
  },
  {
   "cell_type": "markdown",
   "metadata": {},
   "source": [
    "2. Testez votre fonction pour $n=100$, $n=200$, $n=500$. Vous devriez obtenir que l'équation a une solution pour les entiers $k$ suivants&nbsp;: $0, 1, 2, 3, 6, 7, 8, 9, 10, 11, 12, 15, 16, 17, 18, 19, 20, 21, 24, 25, 26, 27, 28, 29, 34, 35, 36, 37, 38, 43, 44, 45, 46, 47, 48, 53, 54, 55, 56, 57, 60, 61, 62, 63, 64, 65, 66, 69, 70, 71, 72, 73, 78, 79, 80, 81, 82, 83, 88, 89, 90, 91, 92, 93, 96, 97, 98, 99.$"
   ]
  },
  {
   "cell_type": "code",
   "execution_count": null,
   "metadata": {},
   "outputs": [],
   "source": [
    "print(generate(100))\n",
    "print(generate(200))\n",
    "print(generate(500)) # soyez patient(e)"
   ]
  },
  {
   "cell_type": "markdown",
   "metadata": {},
   "source": [
    "Si vous optimisez le programme et que vous êtes trèèès patient(e), vous pourrez détecter que la valeur $k=51$ fournit aussi une solution&nbsp;:\n",
    "$$ 602^3 + 659^3 - 796^3 = 51.$$\n",
    "Mais il manque de nombreuses valeurs dans la liste ci-dessus. Les chercheurs ont en fait montré que l'équation a une solution pour **toute** valeur de $k$ entre 0 et 99, mais\n",
    "\n",
    "- on ne connaît pas d'algorithme prenant un entier $k$ en entrée et indiquant si l'équation $x^3+y^3+z^3=k$ a une solution.\n",
    "\n",
    "- certaines valeurs de $k$ demandent des efforts mathématiques, algorithmiques et de programmation conséquents. C'est le cas pour les valeurs 33 et 42, dernières à avoir été résisté, et dont les plus petites solutions sont gigantesques&nbsp;:"
   ]
  },
  {
   "cell_type": "code",
   "execution_count": null,
   "metadata": {},
   "outputs": [],
   "source": [
    "x= 8866128975287528\n",
    "y=-8778405442862239\n",
    "z=-2736111468807040\n",
    "\n",
    "print(x**3 + y**3 + z**3)\n",
    "\n",
    "x = -80538738812075974\n",
    "y = 80435758145817515\n",
    "z = 12602123297335631\n",
    "\n",
    "print(x**3 + y**3 + z**3)"
   ]
  }
 ],
 "metadata": {
  "kernelspec": {
   "display_name": "385",
   "language": "python",
   "name": "385"
  },
  "language_info": {
   "codemirror_mode": {
    "name": "ipython",
    "version": 3
   },
   "file_extension": ".py",
   "mimetype": "text/x-python",
   "name": "python",
   "nbconvert_exporter": "python",
   "pygments_lexer": "ipython3",
   "version": "3.8.5"
  },
  "name": "TP.ipynb"
 },
 "nbformat": 4,
 "nbformat_minor": 4
}
